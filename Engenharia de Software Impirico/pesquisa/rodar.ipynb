{
 "cells": [
  {
   "cell_type": "code",
   "execution_count": 2,
   "metadata": {},
   "outputs": [],
   "source": [
    "from pydoc import describe\n",
    "import pandas as pd\n",
    "from scipy.stats import mannwhitneyu\n",
    "from cliffs_delta import cliffs_delta\n",
    "from sklearn.metrics import cohen_kappa_score\n",
    "import matplotlib.pyplot as plt\n",
    "from scipy import stats\n",
    "import matplotlib.pyplot as plt \n",
    "import numpy as np"
   ]
  },
  {
   "cell_type": "code",
   "execution_count": 3,
   "metadata": {},
   "outputs": [],
   "source": [
    "dfjava = pd.read_csv('java.csv')\n",
    "dfc = pd.read_csv('c.csv')\n",
    "dfpython = pd.read_csv('python.csv')\n",
    "dfscript = pd.read_csv('javascript.csv')"
   ]
  },
  {
   "cell_type": "code",
   "execution_count": 4,
   "metadata": {},
   "outputs": [
    {
     "name": "stderr",
     "output_type": "stream",
     "text": [
      "/var/folders/ds/wqlr3t6d5wz91wb61jd4lpc40000gn/T/ipykernel_53787/1923627980.py:1: VisibleDeprecationWarning: Creating an ndarray from ragged nested sequences (which is a list-or-tuple of lists-or-tuples-or ndarrays with different lengths or shapes) is deprecated. If you meant to do this, you must specify 'dtype=object' when creating the ndarray.\n",
      "  a = np.array([np.array(dfjava.to_numpy()), np.array(dfc.to_numpy()), np.array(dfpython.to_numpy()), np.array(dfscript.to_numpy())])\n"
     ]
    },
    {
     "data": {
      "image/png": "[encoded data removed]",
      "text/plain": [
       "<Figure size 432x288 with 1 Axes>"
      ]
     },
     "metadata": {
      "needs_background": "light"
     },
     "output_type": "display_data"
    }
   ],
   "source": [
    "a = np.array([np.array(dfjava.to_numpy()), np.array(dfc.to_numpy()), np.array(dfpython.to_numpy()), np.array(dfscript.to_numpy())]) \n",
    "\n",
    "# Ragged ndarray works correctly\n",
    "plt.boxplot(x=a, positions=range(len(a)))\n",
    "plt.show()"
   ]
  },
  {
   "cell_type": "code",
   "execution_count": 5,
   "metadata": {},
   "outputs": [
    {
     "name": "stdout",
     "output_type": "stream",
     "text": [
      "KruskalResult(statistic=array([55.21628366]), pvalue=array([6.17407657e-12]))\n",
      "\n"
     ]
    }
   ],
   "source": [
    "results = stats.kruskal(dfjava.to_numpy(), dfc.to_numpy(), dfpython.to_numpy(), dfscript.to_numpy())\n",
    "print(results)\n",
    "print('')"
   ]
  }
 ],
 "metadata": {
  "interpreter": {
   "hash": "397704579725e15f5c7cb49fe5f0341eb7531c82d19f2c29d197e8b64ab5776b"
  },
  "kernelspec": {
   "display_name": "Python 3.9.7 64-bit",
   "language": "python",
   "name": "python3"
  },
  "language_info": {
   "codemirror_mode": {
    "name": "ipython",
    "version": 3
   },
   "file_extension": ".py",
   "mimetype": "text/x-python",
   "name": "python",
   "nbconvert_exporter": "python",
   "pygments_lexer": "ipython3",
   "version": "3.9.7"
  },
  "orig_nbformat": 4
 },
 "nbformat": 4,
 "nbformat_minor": 2
}
